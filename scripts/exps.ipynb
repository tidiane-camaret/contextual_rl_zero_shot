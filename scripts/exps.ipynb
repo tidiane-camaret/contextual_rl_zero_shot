{
 "cells": [
  {
   "cell_type": "code",
   "execution_count": 3,
   "metadata": {},
   "outputs": [
    {
     "data": {
      "text/plain": [
       "array([0, 0])"
      ]
     },
     "execution_count": 3,
     "metadata": {},
     "output_type": "execute_result"
    }
   ],
   "source": [
    "import numpy as np\n",
    "import itertools\n",
    "# all possible int vectors of size 2, values between 0 and 5\n",
    "a = np.arange(0, 5)\n",
    "b = np.arange(0, 5)\n",
    "\n",
    "all_possible_vectors = itertools.product(a, b)\n",
    "sauce = np.array(list(all_possible_vectors)[0])\n",
    "\n",
    "sauce\n",
    "\n"
   ]
  },
  {
   "cell_type": "code",
   "execution_count": 13,
   "metadata": {},
   "outputs": [],
   "source": [
    "scale_list = itertools.product(np.arange(6) + 0.5, repeat=2)\n",
    "scale_list = np.array(list(scale_list))\n",
    "scale_list = scale_list * 0.1"
   ]
  },
  {
   "cell_type": "code",
   "execution_count": 1,
   "metadata": {},
   "outputs": [],
   "source": [
    "NUM_OF_PARAMS = 2"
   ]
  },
  {
   "cell_type": "code",
   "execution_count": 14,
   "metadata": {},
   "outputs": [
    {
     "data": {
      "text/plain": [
       "array([0. , 0.3])"
      ]
     },
     "execution_count": 14,
     "metadata": {},
     "output_type": "execute_result"
    }
   ],
   "source": [
    "np.random.randint(0, 5, NUM_OF_PARAMS)*0.1"
   ]
  },
  {
   "cell_type": "code",
   "execution_count": 15,
   "metadata": {},
   "outputs": [
    {
     "data": {
      "text/plain": [
       "array([[0.05, 0.05],\n",
       "       [0.05, 0.15],\n",
       "       [0.05, 0.25],\n",
       "       [0.05, 0.35],\n",
       "       [0.05, 0.45],\n",
       "       [0.05, 0.55],\n",
       "       [0.15, 0.05],\n",
       "       [0.15, 0.15],\n",
       "       [0.15, 0.25],\n",
       "       [0.15, 0.35],\n",
       "       [0.15, 0.45],\n",
       "       [0.15, 0.55],\n",
       "       [0.25, 0.05],\n",
       "       [0.25, 0.15],\n",
       "       [0.25, 0.25],\n",
       "       [0.25, 0.35],\n",
       "       [0.25, 0.45],\n",
       "       [0.25, 0.55],\n",
       "       [0.35, 0.05],\n",
       "       [0.35, 0.15],\n",
       "       [0.35, 0.25],\n",
       "       [0.35, 0.35],\n",
       "       [0.35, 0.45],\n",
       "       [0.35, 0.55],\n",
       "       [0.45, 0.05],\n",
       "       [0.45, 0.15],\n",
       "       [0.45, 0.25],\n",
       "       [0.45, 0.35],\n",
       "       [0.45, 0.45],\n",
       "       [0.45, 0.55],\n",
       "       [0.55, 0.05],\n",
       "       [0.55, 0.15],\n",
       "       [0.55, 0.25],\n",
       "       [0.55, 0.35],\n",
       "       [0.55, 0.45],\n",
       "       [0.55, 0.55]])"
      ]
     },
     "execution_count": 15,
     "metadata": {},
     "output_type": "execute_result"
    }
   ],
   "source": [
    "scale_list = itertools.product(np.arange(6) + 0.5, repeat=2)\n",
    "scale_list = np.array(list(scale_list))\n",
    "scale_list * 0.1"
   ]
  }
 ],
 "metadata": {
  "kernelspec": {
   "display_name": "metarl_env",
   "language": "python",
   "name": "python3"
  },
  "language_info": {
   "codemirror_mode": {
    "name": "ipython",
    "version": 3
   },
   "file_extension": ".py",
   "mimetype": "text/x-python",
   "name": "python",
   "nbconvert_exporter": "python",
   "pygments_lexer": "ipython3",
   "version": "3.11.2"
  },
  "orig_nbformat": 4
 },
 "nbformat": 4,
 "nbformat_minor": 2
}
