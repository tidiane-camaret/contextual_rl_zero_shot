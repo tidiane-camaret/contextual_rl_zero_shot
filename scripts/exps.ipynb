{
 "cells": [
  {
   "cell_type": "code",
   "execution_count": 9,
   "metadata": {},
   "outputs": [
    {
     "data": {
      "text/plain": [
       "array([0, 0])"
      ]
     },
     "execution_count": 9,
     "metadata": {},
     "output_type": "execute_result"
    }
   ],
   "source": [
    "import numpy as np\n",
    "import itertools\n",
    "# all possible int vectors of size 2, values between 0 and 5\n",
    "a = np.arange(0, 5)\n",
    "b = np.arange(0, 5)\n",
    "\n",
    "all_possible_vectors = itertools.product(a, b)\n",
    "sauce = np.array(list(all_possible_vectors)[0])\n",
    "\n",
    "sauce\n",
    "\n"
   ]
  },
  {
   "cell_type": "code",
   "execution_count": 13,
   "metadata": {},
   "outputs": [],
   "source": [
    "scale_list = itertools.product(np.arange(6) + 0.5, repeat=2)\n",
    "scale_list = np.array(list(scale_list))\n",
    "scale_list = scale_list * 0.1"
   ]
  },
  {
   "cell_type": "code",
   "execution_count": 15,
   "metadata": {},
   "outputs": [
    {
     "data": {
      "text/plain": [
       "36"
      ]
     },
     "execution_count": 15,
     "metadata": {},
     "output_type": "execute_result"
    }
   ],
   "source": [
    "len(scale_list)"
   ]
  }
 ],
 "metadata": {
  "kernelspec": {
   "display_name": "metarl_env",
   "language": "python",
   "name": "python3"
  },
  "language_info": {
   "codemirror_mode": {
    "name": "ipython",
    "version": 3
   },
   "file_extension": ".py",
   "mimetype": "text/x-python",
   "name": "python",
   "nbconvert_exporter": "python",
   "pygments_lexer": "ipython3",
   "version": "3.11.2"
  },
  "orig_nbformat": 4
 },
 "nbformat": 4,
 "nbformat_minor": 2
}
