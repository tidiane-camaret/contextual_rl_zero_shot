{
 "cells": [
  {
   "cell_type": "code",
   "execution_count": 10,
   "metadata": {},
   "outputs": [
    {
     "name": "stdout",
     "output_type": "stream",
     "text": [
      "context_mode: learned_jrpl - charts/episodic_return    -78892.415610\n",
      "context_mode: learned_iida - charts/episodic_return   -108771.922737\n",
      "context_mode: hidden - charts/episodic_return         -115649.431252\n",
      "context_mode: explicit - charts/episodic_return        -80745.242151\n",
      "dtype: float64\n"
     ]
    }
   ],
   "source": [
    "\n",
    "csv_path = \"../results/training_curves/wandb_export_2024-02-24T14 03 05.981+01 00.csv\" #mountaincar\n",
    "csv_path = \"../results/training_curves/wandb_export_2024-02-24T14 36 50.703+01 00.csv\" #cartpole\n",
    "csv_path = \"../results/training_curves/wandb_export_2024-02-24T14 39 03.484+01 00.csv\" #ant\n",
    "csv_path = \"../results/training_curves/wandb_export_2024-02-24T14 11 15.878+01 00.csv\" #pendulum\n",
    "import pandas as pd\n",
    "import matplotlib.pyplot as plt\n",
    "import seaborn as sns\n",
    "import os\n",
    "# open the csv file\n",
    "df = pd.read_csv(csv_path)\n",
    "\n",
    "# keep only the columns that contain \"charts/episodic_return\" or \"global_step\"\n",
    "# should not keep charts/episodic_return__MIN or charts/episodic_return__MAX\n",
    "df = df.filter(regex='charts/episodic_return|global_step')\n",
    "# exclude columns that contain \"charts/episodic_return__MIN\" or \"charts/episodic_return__MAX\"\n",
    "df = df.loc[:,~df.columns.str.contains('charts/episodic_return__MIN|charts/episodic_return__MAX')]\n",
    "\n",
    "# calculate area under the curve for each curve\n",
    "auc = df.drop(columns='global_step').apply(lambda x: x.sum(), axis=0)\n",
    "print(auc)\n"
   ]
  },
  {
   "cell_type": "code",
   "execution_count": 6,
   "metadata": {},
   "outputs": [
    {
     "name": "stdout",
     "output_type": "stream",
     "text": [
      "context_mode: learned_jrpl - charts/episodic_return    5.106777e+05\n",
      "context_mode: learned_iida - charts/episodic_return    1.035125e+05\n",
      "context_mode: hidden - charts/episodic_return          1.722392e+04\n",
      "context_mode: explicit - charts/episodic_return        1.104599e+06\n",
      "dtype: float64\n"
     ]
    }
   ],
   "source": []
  }
 ],
 "metadata": {
  "kernelspec": {
   "display_name": "meta_rl_env",
   "language": "python",
   "name": "python3"
  },
  "language_info": {
   "codemirror_mode": {
    "name": "ipython",
    "version": 3
   },
   "file_extension": ".py",
   "mimetype": "text/x-python",
   "name": "python",
   "nbconvert_exporter": "python",
   "pygments_lexer": "ipython3",
   "version": "3.10.13"
  }
 },
 "nbformat": 4,
 "nbformat_minor": 2
}
