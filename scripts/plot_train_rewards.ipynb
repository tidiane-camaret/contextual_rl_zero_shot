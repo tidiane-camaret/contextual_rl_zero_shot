{
 "cells": [
  {
   "cell_type": "code",
   "execution_count": null,
   "metadata": {},
   "outputs": [],
   "source": [
    "\n",
    "csv_path = \"../results/training_curves/wandb_export_2024-02-24T14 11 15.878+01 00.csv\" #pendulum\n",
    "csv_path = \"../results/training_curves/wandb_export_2024-02-24T14 36 50.703+01 00.csv\" #cartpole\n",
    "csv_path = \"../results/training_curves/wandb_export_2024-02-24T14 39 03.484+01 00.csv\" #ant\n",
    "csv_path = \"../results/training_curves/wandb_export_2024-02-24T14 03 05.981+01 00.csv\" #mountaincar\n",
    "\n",
    "import pandas as pd\n",
    "import matplotlib.pyplot as plt\n",
    "import seaborn as sns\n",
    "# open the csv file\n",
    "df = pd.read_csv(csv_path)\n"
   ]
  },
  {
   "cell_type": "code",
   "execution_count": null,
   "metadata": {},
   "outputs": [],
   "source": [
    "# keep only the columns that contain \"charts/episodic_return\" or \"global_step\"\n",
    "# should not keep charts/episodic_return__MIN or charts/episodic_return__MAX\n",
    "df = df.filter(regex='charts/episodic_return|global_step')\n",
    "# exclude columns that contain \"charts/episodic_return__MIN\" or \"charts/episodic_return__MAX\"\n",
    "df = df.loc[:,~df.columns.str.contains('charts/episodic_return__MIN|charts/episodic_return__MAX')]\n",
    "print(df.columns)\n"
   ]
  },
  {
   "cell_type": "code",
   "execution_count": null,
   "metadata": {},
   "outputs": [],
   "source": [
    "# plot the data : x = global_step, y = all other columns\n",
    "df.plot(x='global_step', y=df.columns[1:])"
   ]
  },
  {
   "cell_type": "code",
   "execution_count": null,
   "metadata": {},
   "outputs": [],
   "source": [
    "# calculate area under the curve for each curve\n",
    "auc = df.drop(columns='global_step').apply(lambda x: x.sum(), axis=0)\n",
    "print(auc)"
   ]
  }
 ],
 "metadata": {
  "language_info": {
   "name": "python"
  }
 },
 "nbformat": 4,
 "nbformat_minor": 2
}
