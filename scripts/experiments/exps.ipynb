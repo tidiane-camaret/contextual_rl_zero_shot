{
 "cells": [
  {
   "cell_type": "code",
   "execution_count": 1,
   "metadata": {},
   "outputs": [
    {
     "data": {
      "text/plain": [
       "array([0, 0])"
      ]
     },
     "execution_count": 1,
     "metadata": {},
     "output_type": "execute_result"
    }
   ],
   "source": [
    "import numpy as np\n",
    "import itertools\n",
    "# all possible int vectors of size 2, values between 0 and 5\n",
    "a = np.arange(0, 5)\n",
    "b = np.arange(0, 5)\n",
    "\n",
    "all_possible_vectors = itertools.product(a, b)\n",
    "sauce = np.array(list(all_possible_vectors)[0])\n",
    "\n",
    "sauce\n",
    "\n"
   ]
  },
  {
   "cell_type": "code",
   "execution_count": 13,
   "metadata": {},
   "outputs": [],
   "source": [
    "scale_list = itertools.product(np.arange(6) + 0.5, repeat=2)\n",
    "scale_list = np.array(list(scale_list))\n",
    "scale_list = scale_list * 0.1"
   ]
  },
  {
   "cell_type": "code",
   "execution_count": 1,
   "metadata": {},
   "outputs": [],
   "source": [
    "NUM_OF_PARAMS = 2"
   ]
  },
  {
   "cell_type": "code",
   "execution_count": 14,
   "metadata": {},
   "outputs": [
    {
     "data": {
      "text/plain": [
       "array([0. , 0.3])"
      ]
     },
     "execution_count": 14,
     "metadata": {},
     "output_type": "execute_result"
    }
   ],
   "source": [
    "np.random.randint(0, 5, NUM_OF_PARAMS)*0.1"
   ]
  },
  {
   "cell_type": "code",
   "execution_count": 15,
   "metadata": {},
   "outputs": [
    {
     "data": {
      "text/plain": [
       "array([[0.05, 0.05],\n",
       "       [0.05, 0.15],\n",
       "       [0.05, 0.25],\n",
       "       [0.05, 0.35],\n",
       "       [0.05, 0.45],\n",
       "       [0.05, 0.55],\n",
       "       [0.15, 0.05],\n",
       "       [0.15, 0.15],\n",
       "       [0.15, 0.25],\n",
       "       [0.15, 0.35],\n",
       "       [0.15, 0.45],\n",
       "       [0.15, 0.55],\n",
       "       [0.25, 0.05],\n",
       "       [0.25, 0.15],\n",
       "       [0.25, 0.25],\n",
       "       [0.25, 0.35],\n",
       "       [0.25, 0.45],\n",
       "       [0.25, 0.55],\n",
       "       [0.35, 0.05],\n",
       "       [0.35, 0.15],\n",
       "       [0.35, 0.25],\n",
       "       [0.35, 0.35],\n",
       "       [0.35, 0.45],\n",
       "       [0.35, 0.55],\n",
       "       [0.45, 0.05],\n",
       "       [0.45, 0.15],\n",
       "       [0.45, 0.25],\n",
       "       [0.45, 0.35],\n",
       "       [0.45, 0.45],\n",
       "       [0.45, 0.55],\n",
       "       [0.55, 0.05],\n",
       "       [0.55, 0.15],\n",
       "       [0.55, 0.25],\n",
       "       [0.55, 0.35],\n",
       "       [0.55, 0.45],\n",
       "       [0.55, 0.55]])"
      ]
     },
     "execution_count": 15,
     "metadata": {},
     "output_type": "execute_result"
    }
   ],
   "source": [
    "scale_list = itertools.product(np.arange(6) + 0.5, repeat=2)\n",
    "scale_list = np.array(list(scale_list))\n",
    "scale_list * 0.1"
   ]
  },
  {
   "cell_type": "code",
   "execution_count": 9,
   "metadata": {},
   "outputs": [
    {
     "data": {
      "text/plain": [
       "array([0.25, 0.55, 0.85, 1.15])"
      ]
     },
     "execution_count": 9,
     "metadata": {},
     "output_type": "execute_result"
    }
   ],
   "source": [
    "np.linspace(0.1, 1, 4) + 0.15"
   ]
  },
  {
   "cell_type": "code",
   "execution_count": 1,
   "metadata": {},
   "outputs": [
    {
     "ename": "UnregisteredEnv",
     "evalue": "No registered env with id: StrikerOracle-v0",
     "output_type": "error",
     "traceback": [
      "\u001b[0;31m---------------------------------------------------------------------------\u001b[0m",
      "\u001b[0;31mKeyError\u001b[0m                                  Traceback (most recent call last)",
      "File \u001b[0;32m~/miniconda3/envs/metarl_env/lib/python3.11/site-packages/gym/envs/registration.py:158\u001b[0m, in \u001b[0;36mEnvRegistry.spec\u001b[0;34m(self, path)\u001b[0m\n\u001b[1;32m    157\u001b[0m \u001b[39mtry\u001b[39;00m:\n\u001b[0;32m--> 158\u001b[0m     \u001b[39mreturn\u001b[39;00m \u001b[39mself\u001b[39;49m\u001b[39m.\u001b[39;49menv_specs[\u001b[39mid\u001b[39;49m]\n\u001b[1;32m    159\u001b[0m \u001b[39mexcept\u001b[39;00m \u001b[39mKeyError\u001b[39;00m:\n\u001b[1;32m    160\u001b[0m     \u001b[39m# Parse the env name and check to see if it matches the non-version\u001b[39;00m\n\u001b[1;32m    161\u001b[0m     \u001b[39m# part of a valid env (could also check the exact number here)\u001b[39;00m\n",
      "\u001b[0;31mKeyError\u001b[0m: 'StrikerOracle-v0'",
      "\nDuring handling of the above exception, another exception occurred:\n",
      "\u001b[0;31mUnregisteredEnv\u001b[0m                           Traceback (most recent call last)",
      "Cell \u001b[0;32mIn[1], line 2\u001b[0m\n\u001b[1;32m      1\u001b[0m \u001b[39mimport\u001b[39;00m \u001b[39mgym\u001b[39;00m\n\u001b[0;32m----> 2\u001b[0m gym\u001b[39m.\u001b[39;49mmake(\u001b[39m\"\u001b[39;49m\u001b[39mStrikerOracle-v0\u001b[39;49m\u001b[39m\"\u001b[39;49m)\n",
      "File \u001b[0;32m~/miniconda3/envs/metarl_env/lib/python3.11/site-packages/gym/envs/registration.py:235\u001b[0m, in \u001b[0;36mmake\u001b[0;34m(id, **kwargs)\u001b[0m\n\u001b[1;32m    234\u001b[0m \u001b[39mdef\u001b[39;00m \u001b[39mmake\u001b[39m(\u001b[39mid\u001b[39m, \u001b[39m*\u001b[39m\u001b[39m*\u001b[39mkwargs):\n\u001b[0;32m--> 235\u001b[0m     \u001b[39mreturn\u001b[39;00m registry\u001b[39m.\u001b[39;49mmake(\u001b[39mid\u001b[39;49m, \u001b[39m*\u001b[39;49m\u001b[39m*\u001b[39;49mkwargs)\n",
      "File \u001b[0;32m~/miniconda3/envs/metarl_env/lib/python3.11/site-packages/gym/envs/registration.py:128\u001b[0m, in \u001b[0;36mEnvRegistry.make\u001b[0;34m(self, path, **kwargs)\u001b[0m\n\u001b[1;32m    126\u001b[0m \u001b[39melse\u001b[39;00m:\n\u001b[1;32m    127\u001b[0m     logger\u001b[39m.\u001b[39minfo(\u001b[39m\"\u001b[39m\u001b[39mMaking new env: \u001b[39m\u001b[39m%s\u001b[39;00m\u001b[39m\"\u001b[39m, path)\n\u001b[0;32m--> 128\u001b[0m spec \u001b[39m=\u001b[39m \u001b[39mself\u001b[39;49m\u001b[39m.\u001b[39;49mspec(path)\n\u001b[1;32m    129\u001b[0m env \u001b[39m=\u001b[39m spec\u001b[39m.\u001b[39mmake(\u001b[39m*\u001b[39m\u001b[39m*\u001b[39mkwargs)\n\u001b[1;32m    130\u001b[0m \u001b[39mreturn\u001b[39;00m env\n",
      "File \u001b[0;32m~/miniconda3/envs/metarl_env/lib/python3.11/site-packages/gym/envs/registration.py:203\u001b[0m, in \u001b[0;36mEnvRegistry.spec\u001b[0;34m(self, path)\u001b[0m\n\u001b[1;32m    197\u001b[0m     \u001b[39mraise\u001b[39;00m error\u001b[39m.\u001b[39mUnregisteredEnv(\n\u001b[1;32m    198\u001b[0m         \u001b[39m\"\u001b[39m\u001b[39mToytext environment \u001b[39m\u001b[39m{}\u001b[39;00m\u001b[39m has been moved out of Gym. Install it via `pip install gym-legacy-toytext` and add `import gym_toytext` before using it.\u001b[39m\u001b[39m\"\u001b[39m\u001b[39m.\u001b[39mformat(\n\u001b[1;32m    199\u001b[0m             \u001b[39mid\u001b[39m\n\u001b[1;32m    200\u001b[0m         )\n\u001b[1;32m    201\u001b[0m     )\n\u001b[1;32m    202\u001b[0m \u001b[39melse\u001b[39;00m:\n\u001b[0;32m--> 203\u001b[0m     \u001b[39mraise\u001b[39;00m error\u001b[39m.\u001b[39mUnregisteredEnv(\u001b[39m\"\u001b[39m\u001b[39mNo registered env with id: \u001b[39m\u001b[39m{}\u001b[39;00m\u001b[39m\"\u001b[39m\u001b[39m.\u001b[39mformat(\u001b[39mid\u001b[39m))\n",
      "\u001b[0;31mUnregisteredEnv\u001b[0m: No registered env with id: StrikerOracle-v0"
     ]
    }
   ],
   "source": [
    "import gym\n",
    "gym.make(\"StrikerOracle-v0\")"
   ]
  }
 ],
 "metadata": {
  "kernelspec": {
   "display_name": "metarl_env",
   "language": "python",
   "name": "python3"
  },
  "language_info": {
   "codemirror_mode": {
    "name": "ipython",
    "version": 3
   },
   "file_extension": ".py",
   "mimetype": "text/x-python",
   "name": "python",
   "nbconvert_exporter": "python",
   "pygments_lexer": "ipython3",
   "version": "3.11.2"
  },
  "orig_nbformat": 4
 },
 "nbformat": 4,
 "nbformat_minor": 2
}
