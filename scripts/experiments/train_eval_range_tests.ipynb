{
 "cells": [
  {
   "cell_type": "code",
   "execution_count": 3,
   "metadata": {},
   "outputs": [
    {
     "data": {
      "image/png": "[encoded data removed]",
      "text/plain": [
       "<Figure size 640x480 with 1 Axes>"
      ]
     },
     "metadata": {},
     "output_type": "display_data"
    }
   ],
   "source": [
    "import numpy as np\n",
    "x = np.arange(10)\n",
    "y = np.linspace(-0.015 , 0.015, 10)\n",
    "\n",
    "#plot the data\n",
    "import matplotlib.pyplot as plt\n",
    "plt.plot(x, y)  \n",
    "# plot y = 0.02\n",
    "plt.axhline(y=0.00082, color='r', linestyle='--')\n",
    "plt.show()"
   ]
  },
  {
   "cell_type": "code",
   "execution_count": 4,
   "metadata": {},
   "outputs": [
    {
     "data": {
      "text/plain": [
       "array([-0.015     , -0.01166667, -0.00833333, -0.005     , -0.00166667,\n",
       "        0.00166667,  0.005     ,  0.00833333,  0.01166667,  0.015     ])"
      ]
     },
     "execution_count": 4,
     "metadata": {},
     "output_type": "execute_result"
    }
   ],
   "source": [
    "y"
   ]
  },
  {
   "cell_type": "code",
   "execution_count": 5,
   "metadata": {},
   "outputs": [
    {
     "data": {
      "text/plain": [
       "array([-0.00666667, -0.00333333,  0.        ,  0.00333333,  0.00666667])"
      ]
     },
     "execution_count": 5,
     "metadata": {},
     "output_type": "execute_result"
    }
   ],
   "source": [
    "# 5 middle values\n",
    "y_m = y[2:8]\n",
    "# average of y_m{i}, y_m{i+1}\n",
    "(y_m[1:] + y_m[:-1]) / 2"
   ]
  },
  {
   "cell_type": "code",
   "execution_count": 10,
   "metadata": {},
   "outputs": [
    {
     "data": {
      "text/plain": [
       "[0.01, 0.02, 0.05, 0.1, 0.22, 0.46, 1.0, 2.15, 4.64, 10.0]"
      ]
     },
     "execution_count": 10,
     "metadata": {},
     "output_type": "execute_result"
    }
   ],
   "source": [
    "numbers = [ 0.01      ,  0.02154435,  0.04641589,  0.1       ,  0.21544347,\n",
    "        0.46415888,  1.        ,  2.15443469,  4.64158883, 10.        ]\n",
    "[round(num, 2) for num in numbers]"
   ]
  },
  {
   "cell_type": "code",
   "execution_count": 19,
   "metadata": {},
   "outputs": [
    {
     "data": {
      "text/plain": [
       "0.11404454428083668"
      ]
     },
     "execution_count": 19,
     "metadata": {},
     "output_type": "execute_result"
    }
   ],
   "source": [
    "\n",
    "np.log(np.mean(np.exp([0.02 , 0.2])))"
   ]
  },
  {
   "cell_type": "code",
   "execution_count": 16,
   "metadata": {},
   "outputs": [
    {
     "name": "stdout",
     "output_type": "stream",
     "text": [
      "env_name :  CARLCartPoleContinuous\n",
      "Random performance for CARLCartPoleContinuous with context value 0.02 is 28.4\n",
      "env_name :  CARLCartPoleContinuous\n",
      "Random performance for CARLCartPoleContinuous with context value 0.02583099 is 19.9\n",
      "env_name :  CARLCartPoleContinuous\n"
     ]
    },
    {
     "name": "stderr",
     "output_type": "stream",
     "text": [
      "/tmp/ipykernel_554462/1423621627.py:19: FutureWarning: The behavior of DataFrame concatenation with empty or all-NA entries is deprecated. In a future version, this will no longer exclude empty or all-NA columns when determining the result dtypes. To retain the old behavior, exclude the relevant entries before the concat operation.\n",
      "  random_performance_df = random_performance_df._append({\"Environment\": env_name, \"context_value\": context_value, \"reward\": random_performance}, ignore_index=True)\n"
     ]
    },
    {
     "name": "stdout",
     "output_type": "stream",
     "text": [
      "Random performance for CARLCartPoleContinuous with context value 0.03336201 is 17.22\n",
      "env_name :  CARLCartPoleContinuous\n",
      "Random performance for CARLCartPoleContinuous with context value 0.04308869 is 12.02\n",
      "env_name :  CARLCartPoleContinuous\n",
      "Random performance for CARLCartPoleContinuous with context value 0.05565119 is 9.32\n",
      "env_name :  CARLCartPoleContinuous\n",
      "Random performance for CARLCartPoleContinuous with context value 0.07187627 is 6.36\n",
      "env_name :  CARLCartPoleContinuous\n",
      "Random performance for CARLCartPoleContinuous with context value 0.09283178 is 5.38\n",
      "env_name :  CARLCartPoleContinuous\n",
      "Random performance for CARLCartPoleContinuous with context value 0.11989685 is 3.6\n",
      "env_name :  CARLCartPoleContinuous\n",
      "Random performance for CARLCartPoleContinuous with context value 0.15485274 is 2.96\n",
      "env_name :  CARLCartPoleContinuous\n",
      "Random performance for CARLCartPoleContinuous with context value 0.2 is 2.36\n"
     ]
    }
   ],
   "source": [
    "# add parent directory to path\n",
    "import os\n",
    "import sys\n",
    "sys.path.append(os.path.abspath(os.path.join('..')))\n",
    "from scripts.plot_utils import extract_rewards_from_run_dir, eval_random_agent\n",
    "import pandas as pd\n",
    "result_dirs = {\n",
    "        #\"CARLMountainCarContinuous\"  : [\"results/hydra/multirun/2024-02-09/18-52-53\",\"power\", [0.00015   , 0.00019373, 0.00025022, 0.00032317, 0.00041738,    0.00053907, 0.00069624, 0.00089923, 0.0011614 , 0.0015    ], 999],\n",
    "        \"CARLCartPoleContinuous\" : [\"results/hydra/multirun/2024-02-08/13-15-57\",\"tau\", [0.02      , 0.02583099, 0.03336201, 0.04308869, 0.05565119, 0.07187627, 0.09283178, 0.11989685, 0.15485274, 0.2       ], 200],\n",
    "\n",
    "}\n",
    "                                         \n",
    "# measure performance of a random agent\n",
    "\n",
    "random_performance_df = pd.DataFrame(columns=[\"Environment\", \"context_value\", \"reward\"])\n",
    "for env_name, (dir, context_name, context_values, max_steps) in result_dirs.items():\n",
    "    for context_value in context_values:\n",
    "        random_performance = eval_random_agent(env_name, context_name, context_value, max_steps)\n",
    "        random_performance_df = random_performance_df._append({\"Environment\": env_name, \"context_value\": context_value, \"reward\": random_performance}, ignore_index=True)\n",
    "        print(f\"Random performance for {env_name} with context value {context_value} is {random_performance}\")\n"
   ]
  },
  {
   "cell_type": "code",
   "execution_count": 17,
   "metadata": {},
   "outputs": [
    {
     "name": "stdout",
     "output_type": "stream",
     "text": [
      "              Environment  context_value  reward\n",
      "0  CARLCartPoleContinuous       0.020000   28.40\n",
      "1  CARLCartPoleContinuous       0.025831   19.90\n",
      "2  CARLCartPoleContinuous       0.033362   17.22\n",
      "3  CARLCartPoleContinuous       0.043089   12.02\n",
      "4  CARLCartPoleContinuous       0.055651    9.32\n",
      "5  CARLCartPoleContinuous       0.071876    6.36\n",
      "6  CARLCartPoleContinuous       0.092832    5.38\n",
      "7  CARLCartPoleContinuous       0.119897    3.60\n",
      "8  CARLCartPoleContinuous       0.154853    2.96\n",
      "9  CARLCartPoleContinuous       0.200000    2.36\n"
     ]
    }
   ],
   "source": [
    "print(random_performance_df)"
   ]
  }
 ],
 "metadata": {
  "kernelspec": {
   "display_name": "meta_rl_env",
   "language": "python",
   "name": "python3"
  },
  "language_info": {
   "codemirror_mode": {
    "name": "ipython",
    "version": 3
   },
   "file_extension": ".py",
   "mimetype": "text/x-python",
   "name": "python",
   "nbconvert_exporter": "python",
   "pygments_lexer": "ipython3",
   "version": "3.10.13"
  }
 },
 "nbformat": 4,
 "nbformat_minor": 2
}
